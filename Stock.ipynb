{
 "cells": [
  {
   "cell_type": "code",
   "execution_count": 47,
   "id": "c6d2e539",
   "metadata": {},
   "outputs": [
    {
     "name": "stdout",
     "output_type": "stream",
     "text": [
      "[*********************100%***********************]  1 of 1 completed\n"
     ]
    },
    {
     "ename": "TypeError",
     "evalue": "'DataFrame' object is not callable",
     "output_type": "error",
     "traceback": [
      "\u001b[0;31m---------------------------------------------------------------------------\u001b[0m",
      "\u001b[0;31mTypeError\u001b[0m                                 Traceback (most recent call last)",
      "\u001b[0;32m/tmp/ipykernel_156/491455886.py\u001b[0m in \u001b[0;36m<module>\u001b[0;34m\u001b[0m\n\u001b[1;32m     30\u001b[0m \u001b[0mscaler\u001b[0m \u001b[0;34m=\u001b[0m \u001b[0mMinMaxScaler\u001b[0m\u001b[0;34m(\u001b[0m\u001b[0;34m)\u001b[0m\u001b[0;34m\u001b[0m\u001b[0;34m\u001b[0m\u001b[0m\n\u001b[1;32m     31\u001b[0m \u001b[0mfeature_transform\u001b[0m \u001b[0;34m=\u001b[0m \u001b[0mscaler\u001b[0m\u001b[0;34m.\u001b[0m\u001b[0mfit_transform\u001b[0m\u001b[0;34m(\u001b[0m\u001b[0mtickerData\u001b[0m\u001b[0;34m[\u001b[0m\u001b[0mscale\u001b[0m\u001b[0;34m]\u001b[0m\u001b[0;34m)\u001b[0m\u001b[0;34m\u001b[0m\u001b[0;34m\u001b[0m\u001b[0m\n\u001b[0;32m---> 32\u001b[0;31m \u001b[0mfeature_transform\u001b[0m\u001b[0;34m=\u001b[0m \u001b[0mtickerData\u001b[0m\u001b[0;34m(\u001b[0m\u001b[0mcolumns\u001b[0m\u001b[0;34m=\u001b[0m\u001b[0mattributes\u001b[0m\u001b[0;34m,\u001b[0m \u001b[0mdata\u001b[0m\u001b[0;34m=\u001b[0m\u001b[0mfeature_transform\u001b[0m\u001b[0;34m,\u001b[0m \u001b[0mindex\u001b[0m\u001b[0;34m=\u001b[0m\u001b[0mtickerData\u001b[0m\u001b[0;34m.\u001b[0m\u001b[0mindex\u001b[0m\u001b[0;34m)\u001b[0m\u001b[0;34m\u001b[0m\u001b[0;34m\u001b[0m\u001b[0m\n\u001b[0m\u001b[1;32m     33\u001b[0m \u001b[0;34m\u001b[0m\u001b[0m\n\u001b[1;32m     34\u001b[0m \u001b[0;34m\u001b[0m\u001b[0m\n",
      "\u001b[0;31mTypeError\u001b[0m: 'DataFrame' object is not callable"
     ]
    }
   ],
   "source": [
    "from sklearn.svm import LinearSVR\n",
    "import numpy as np\n",
    "import pandas as pd\n",
    "import matplotlib.pyplot as plt\n",
    "from sklearn.preprocessing import MinMaxScaler\n",
    "from sklearn.linear_model import LinearRegression\n",
    "from sklearn.metrics import mean_squared_error\n",
    "from sklearn.model_selection import train_test_split\n",
    "from sklearn.metrics import mean_squared_error\n",
    "\n",
    "\n",
    "#Getting the stock data (install yfinance \"pip install yfinance\")\n",
    "import yfinance as yf\n",
    "ticker = yf.download('AAPL', period=\"5y\")\n",
    "ticker.describe()\n",
    "\n",
    "#adjusting data to what we need\n",
    "tickerData = ticker\n",
    "adjclose = tickerData['Adj Close']\n",
    "tickerData['Today Adj Close'] = adjclose\n",
    "\n",
    "tickerData['Adj Close'] = tickerData['Adj Close'].shift(-1)\n",
    "tickerData = tickerData.dropna()\n",
    "tickerData = tickerData.drop(['Close'], axis=1)\n",
    "tickerData = tickerData.rename(columns={\"Adj Close\" : \"Tomorrow Adj Close\"})\n",
    "tickerData = tickerData.drop(['Volume'], axis=1)\n",
    "\n",
    "attributes = ['Open', 'High', 'Low', 'Tomorrow Adj Close', 'Today Adj Close']\n",
    "#literally don't use this at all\n",
    "scale = ['Open', 'High', 'Low', 'Today Adj Close']\n",
    "scaler = MinMaxScaler()\n",
    "feature_transform = scaler.fit_transform(tickerData[attributes])\n",
    "feature_transform= pd.DataFrame(columns=attributes, data=feature_transform, index=tickerData.index)\n",
    "\n",
    "\n",
    "\n",
    "#Getting the data for training\n",
    "\n",
    "#get the labels seperated from the features\n",
    "train_set, test_set = train_test_split(feature_transform, test_size=0.2, random_state=42)\n",
    "train_set_features = train_set.drop(['Tomorrow Adj Close'], axis=1)\n",
    "train_set_labels= train_set[\"Tomorrow Adj Close\"].copy()\n",
    "                            \n",
    "test_set_features = train_set.drop(['Tomorrow Adj Close'], axis=1)\n",
    "test_set_labels= train_set[\"Tomorrow Adj Close\"].copy()\n",
    "   \n",
    "#linear Regression Model to see how it does\n",
    "svm_reg = LinearSVR(epsilon=.5)\n",
    "svm_reg.fit(train_set_features, train_set_labels)\n",
    "                                   \n",
    "#print(\"Predictions:\" , lin_reg.predict(test_set_features))\n",
    "#print(\"Labels:\", list(test_set_labels))\n",
    "\n",
    "#rmse with lin_reg\n",
    "stock_predictions = svm_reg.predict(test_set_features) \n",
    "mse = mean_squared_error(test_set_labels, stock_predictions)\n",
    "rmse = np.sqrt(mse)\n",
    "print(rmse)                                   \n",
    "print(tickerData.describe())                                   \n",
    "\n",
    "\n",
    "\n",
    "\n",
    "\n",
    "\n",
    "\n",
    "\n",
    "\n",
    "\n",
    "\n",
    "\n",
    "\n",
    "\n",
    "\n",
    "\n",
    "\n",
    "\n",
    "\n",
    "\n"
   ]
  },
  {
   "cell_type": "code",
   "execution_count": null,
   "id": "14218882",
   "metadata": {},
   "outputs": [],
   "source": []
  }
 ],
 "metadata": {
  "kernelspec": {
   "display_name": "Python 3 (ipykernel)",
   "language": "python",
   "name": "python3"
  },
  "language_info": {
   "codemirror_mode": {
    "name": "ipython",
    "version": 3
   },
   "file_extension": ".py",
   "mimetype": "text/x-python",
   "name": "python",
   "nbconvert_exporter": "python",
   "pygments_lexer": "ipython3",
   "version": "3.8.5"
  }
 },
 "nbformat": 4,
 "nbformat_minor": 5
}
