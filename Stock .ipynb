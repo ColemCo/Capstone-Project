{
 "cells": [
  {
   "cell_type": "code",
   "execution_count": 7,
   "id": "c6d2e539",
   "metadata": {},
   "outputs": [
    {
     "name": "stdout",
     "output_type": "stream",
     "text": [
      "[*********************100%***********************]  1 of 1 completed\n"
     ]
    },
    {
     "name": "stderr",
     "output_type": "stream",
     "text": [
      "/home/klitzlo/.local/lib/python3.8/site-packages/sklearn/svm/_base.py:985: ConvergenceWarning: Liblinear failed to converge, increase the number of iterations.\n",
      "  warnings.warn(\"Liblinear failed to converge, increase \"\n",
      "/home/klitzlo/.local/lib/python3.8/site-packages/sklearn/svm/_base.py:985: ConvergenceWarning: Liblinear failed to converge, increase the number of iterations.\n",
      "  warnings.warn(\"Liblinear failed to converge, increase \"\n",
      "/home/klitzlo/.local/lib/python3.8/site-packages/sklearn/svm/_base.py:985: ConvergenceWarning: Liblinear failed to converge, increase the number of iterations.\n",
      "  warnings.warn(\"Liblinear failed to converge, increase \"\n",
      "/home/klitzlo/.local/lib/python3.8/site-packages/sklearn/svm/_base.py:985: ConvergenceWarning: Liblinear failed to converge, increase the number of iterations.\n",
      "  warnings.warn(\"Liblinear failed to converge, increase \"\n",
      "/home/klitzlo/.local/lib/python3.8/site-packages/sklearn/svm/_base.py:985: ConvergenceWarning: Liblinear failed to converge, increase the number of iterations.\n",
      "  warnings.warn(\"Liblinear failed to converge, increase \"\n",
      "/home/klitzlo/.local/lib/python3.8/site-packages/sklearn/svm/_base.py:985: ConvergenceWarning: Liblinear failed to converge, increase the number of iterations.\n",
      "  warnings.warn(\"Liblinear failed to converge, increase \"\n",
      "/home/klitzlo/.local/lib/python3.8/site-packages/sklearn/svm/_base.py:985: ConvergenceWarning: Liblinear failed to converge, increase the number of iterations.\n",
      "  warnings.warn(\"Liblinear failed to converge, increase \"\n",
      "/home/klitzlo/.local/lib/python3.8/site-packages/sklearn/svm/_base.py:985: ConvergenceWarning: Liblinear failed to converge, increase the number of iterations.\n",
      "  warnings.warn(\"Liblinear failed to converge, increase \"\n"
     ]
    },
    {
     "name": "stdout",
     "output_type": "stream",
     "text": [
      "Scores: [1.6119053  1.51707781 1.5193961  1.2539569  1.42279282 1.33683817\n",
      " 2.02398367 1.74052733 1.88336428 1.91389111]\n",
      "Mean: 1.6223733477772282\n",
      "Standared deviation: 0.24642332374180206\n",
      "MAPE:  13131.164767020244\n",
      "count    1005.000000\n",
      "mean       70.479774\n",
      "std        38.768559\n",
      "min        25.675816\n",
      "25%        41.090141\n",
      "50%        51.864838\n",
      "75%       110.933540\n",
      "max       157.869995\n",
      "Name: Tomorrow Adj Close, dtype: float64\n"
     ]
    },
    {
     "name": "stderr",
     "output_type": "stream",
     "text": [
      "/home/klitzlo/.local/lib/python3.8/site-packages/sklearn/svm/_base.py:985: ConvergenceWarning: Liblinear failed to converge, increase the number of iterations.\n",
      "  warnings.warn(\"Liblinear failed to converge, increase \"\n",
      "/home/klitzlo/.local/lib/python3.8/site-packages/sklearn/svm/_base.py:985: ConvergenceWarning: Liblinear failed to converge, increase the number of iterations.\n",
      "  warnings.warn(\"Liblinear failed to converge, increase \"\n"
     ]
    }
   ],
   "source": [
    "from sklearn.svm import LinearSVR\n",
    "import numpy as np\n",
    "import pandas as pd\n",
    "import matplotlib.pyplot as plt\n",
    "from sklearn.preprocessing import MinMaxScaler\n",
    "from sklearn.linear_model import LinearRegression\n",
    "from sklearn.metrics import mean_squared_error\n",
    "from sklearn.model_selection import train_test_split\n",
    "from sklearn.metrics import mean_squared_error\n",
    "from sklearn.model_selection import cross_val_score\n",
    "\n",
    "#mean average percent error\n",
    "def mape(actual, pred): \n",
    "    actual_array, pred_array = np.array(actual), np.array(pred)\n",
    "    return (np.mean(np.abs((actual_array - pred_array) / actual)) * 100)\n",
    "\n",
    "\n",
    "#Getting the stock data (install yfinance \"pip install yfinance\")\n",
    "import yfinance as yf\n",
    "ticker = yf.download('AAPL', period=\"5y\")\n",
    "ticker.describe()\n",
    "\n",
    "#adjusting data to what we need\n",
    "tickerData = ticker\n",
    "adjclose = tickerData['Adj Close']\n",
    "tickerData['Today Adj Close'] = adjclose\n",
    "\n",
    "tickerData['Adj Close'] = tickerData['Adj Close'].shift(-1)\n",
    "tickerData = tickerData.dropna()\n",
    "tickerData = tickerData.drop(['Close'], axis=1)\n",
    "tickerData = tickerData.rename(columns={\"Adj Close\" : \"Tomorrow Adj Close\"})\n",
    "tickerData = tickerData.drop(['Volume'], axis=1)\n",
    "\n",
    "attributes = ['Open', 'High', 'Low', 'Tomorrow Adj Close', 'Today Adj Close']\n",
    "#literally don't use this at all\n",
    "scale = ['Open', 'High', 'Low', 'Today Adj Close']\n",
    "scaler = MinMaxScaler()\n",
    "#feature_transform = scaler.fit_transform(tickerData[scale])\n",
    "#feature_transform= pd.DataFrame(columns=attributes, data=feature_transform, index=tickerData.index)\n",
    "\n",
    "\n",
    "\n",
    "#Getting the data for training\n",
    "\n",
    "#get the labels seperated from the features\n",
    "train_set, test_set = train_test_split(tickerData, test_size=0.2, random_state=42)\n",
    "train_set_features = train_set.drop(['Tomorrow Adj Close'], axis=1)\n",
    "train_set_labels= train_set[\"Tomorrow Adj Close\"].copy()\n",
    "feature_transform = scaler.fit_transform(train_set_features[scale])\n",
    "train_prepared = pd.DataFrame(columns=scale, data=feature_transform, index=train_set_features.index)\n",
    "\n",
    "test_set_features = train_set.drop(['Tomorrow Adj Close'], axis=1)\n",
    "\n",
    "test_set_labels= train_set[\"Tomorrow Adj Close\"].copy()\n",
    "   \n",
    "#linear Regression Model to see how it does\n",
    "svm_reg = LinearSVR(epsilon=.5)\n",
    "svm_reg.fit(train_prepared, train_set_labels)\n",
    "\n",
    "pred = svm_reg.predict(test_set_features)\n",
    "                                  \n",
    "#(\"Predictions:\" , lin_reg.predict(test_set_features))\n",
    "#(\"Labels:\", list(test_set_labels))\n",
    "\n",
    "#rmse with lin_reg\n",
    "scores = cross_val_score(svm_reg, train_set_features, train_set_labels, \n",
    "                         scoring=\"neg_mean_squared_error\", cv =10) \n",
    "rmse = np.sqrt(-scores)\n",
    "print(\"Scores:\", rmse)\n",
    "print(\"Mean:\", rmse.mean())\n",
    "print (\"Standared deviation:\", rmse.std())\n",
    "print(\"MAPE: \", mape(test_set_labels, pred))\n",
    "\n",
    "\n",
    "print(train_set_labels.describe())                                   \n"
   ]
  },
  {
   "cell_type": "code",
   "execution_count": null,
   "id": "14218882",
   "metadata": {},
   "outputs": [],
   "source": []
  },
  {
   "cell_type": "code",
   "execution_count": null,
   "id": "1c6110a1",
   "metadata": {},
   "outputs": [],
   "source": []
  }
 ],
 "metadata": {
  "kernelspec": {
   "display_name": "Python 3 (ipykernel)",
   "language": "python",
   "name": "python3"
  },
  "language_info": {
   "codemirror_mode": {
    "name": "ipython",
    "version": 3
   },
   "file_extension": ".py",
   "mimetype": "text/x-python",
   "name": "python",
   "nbconvert_exporter": "python",
   "pygments_lexer": "ipython3",
   "version": "3.8.5"
  }
 },
 "nbformat": 4,
 "nbformat_minor": 5
}
